{
 "cells": [
  {
   "cell_type": "markdown",
   "metadata": {},
   "source": [
    "## Model evaluation\n",
    "\n",
    "### Model\n",
    "\n",
    "1. llama \n",
    "2. Chat GPT\n",
    "3. finetune (temperature=0.3), \n",
    "4. finetune (temperature = 0.7)\n",
    "\n",
    "### Result\n",
    "\n",
    "> write in `result.txt`"
   ]
  },
  {
   "cell_type": "markdown",
   "metadata": {},
   "source": [
    "## Questions"
   ]
  },
  {
   "cell_type": "code",
   "execution_count": 9,
   "metadata": {},
   "outputs": [
    {
     "name": "stdout",
     "output_type": "stream",
     "text": [
      "['What is the Extra Window Memory (EWM) injection technique? How does it evade process-based defenses?', 'Explain how malware leverages External Remote Services to initially access and persist within a network.', 'What is the technique of privilege escalation using Setuid and Setgid permissions? How do malicious attackers use these commands to gain ownership of files and directories?', 'Describe the attack process in which malware writes code to shared memory regions and uses EWM for execution.', 'Why do exposed services in containerized environments (such as Docker API or Kubernetes API server) become attack targets? How do attackers exploit these exposed services?', 'How is a Trojan attack executed and what measures can be taken to prevent it?', 'How to perform a phishing attack and how to defend against it?', 'What are SQL injection attacks and how can they be prevented?', 'How do ransomware attacks work and what steps can be taken to protect against them?', 'What is a Distributed Denial of Service (DDoS) attack and how can an organization defend itself against such attacks?']\n"
     ]
    }
   ],
   "source": [
    "questions = \"\"\"What is the Extra Window Memory (EWM) injection technique? How does it evade process-based defenses?\n",
    "Explain how malware leverages External Remote Services to initially access and persist within a network.\n",
    "What is the technique of privilege escalation using Setuid and Setgid permissions? How do malicious attackers use these commands to gain ownership of files and directories?\n",
    "Describe the attack process in which malware writes code to shared memory regions and uses EWM for execution.\n",
    "Why do exposed services in containerized environments (such as Docker API or Kubernetes API server) become attack targets? How do attackers exploit these exposed services?\n",
    "How is a Trojan attack executed and what measures can be taken to prevent it?\n",
    "How to perform a phishing attack and how to defend against it?\n",
    "What are SQL injection attacks and how can they be prevented?\n",
    "How do ransomware attacks work and what steps can be taken to protect against them?\n",
    "What is a Distributed Denial of Service (DDoS) attack and how can an organization defend itself against such attacks?\"\"\"\n",
    "\n",
    "query = questions.split(\"\\n\")\n",
    "\n",
    "print(query)"
   ]
  },
  {
   "cell_type": "markdown",
   "metadata": {},
   "source": [
    "### finetune model\n"
   ]
  },
  {
   "cell_type": "code",
   "execution_count": null,
   "metadata": {},
   "outputs": [],
   "source": [
    "from langchain_community.llms import HuggingFacePipeline\n",
    "from transformers import GenerationConfig\n",
    "\n",
    "generation_config = GenerationConfig(\n",
    "    max_length=300,                   # 設置最大生成長度\n",
    "    min_length=100,                   # 設置最小生成長度以確保生成的文本足夠長\n",
    "    do_sample=True,                   # 啟用採樣模式\n",
    "    temperature=0.7,                  # 設置溫度以控制生成文本的隨機性\n",
    "    early_stopping=True,              # 啟用早停以生成完整句子\n",
    "    no_repeat_ngram_size=3,           # 防止重複3-gram的出現\n",
    "    repetition_penalty=1.2,           # 設置重複懲罰\n",
    "    num_beams=5,                      # 使用 beam search 並設置 beam 數量\n",
    "    length_penalty=1.0                # 長度懲罰，控制生成文本的長度\n",
    ")\n",
    "\n",
    "hf_model = HuggingFacePipeline.from_model_id(\n",
    "    model_id=\"Xcvddax/attack-gemma-7b\",\n",
    "    task=\"text-generation\",\n",
    "    deivce = 0,\n",
    "    device_map='auto',\n",
    "    truncation=True,\n",
    "    pipeline_kwargs= generation_config.to_dict(),\n",
    ")\n",
    "print(hf_model)"
   ]
  },
  {
   "cell_type": "code",
   "execution_count": 8,
   "metadata": {},
   "outputs": [
    {
     "name": "stdout",
     "output_type": "stream",
     "text": [
      "What is domain name query in reconnaissance?\n",
      "How can I perform social media profiling for reconnaissance?\n",
      "What is domain purchase in resource development?\n",
      "How can I set up command and control servers?\n",
      "What is spear phishing?\n",
      "How can I exploit public-facing applications for initial access?\n",
      "What is PowerShell execution?\n",
      "How can I execute malicious macros?\n",
      "What is a backdoor account?\n",
      "How can I modify startup items for persistence?\n",
      "What is vulnerability exploitation for privilege escalation?\n",
      "How can I perform process injection for privilege escalation?\n",
      "What is disabling security software for defense evasion?\n",
      "How can I obfuscate files to evade defenses?\n",
      "What is credential dumping?\n",
      "How can I conduct phishing for credential access?\n",
      "What is network scanning?\n",
      "How can I perform system information discovery?\n",
      "What is lateral movement via RDP?\n",
      "How can I use WMI for lateral movement?\n",
      "What is sensitive data searching?\n",
      "How can I use keylogging for data collection?\n",
      "What is encrypted communication for command and control?\n",
      "How can I establish a reverse shell for command and control?\n",
      "What is data exfiltration over the network?\n",
      "How can I exfiltrate data using HTTP or FTP?\n",
      "What is data encryption with ransomware?\n",
      "How can I use malware to destroy system files?\n"
     ]
    }
   ],
   "source": [
    "file_path = './generation_example/finetune.txt'\n",
    "\n",
    "\n",
    "for i,question in enumerate(query):\n",
    "    ans= hf_model.invoke(question)\n",
    "    s = f\"{i}. Question:{question}\\n\\n\" + f\"Answer:{ans}\\n\\n\"\n",
    "    print(s)\n",
    "    \n",
    "    with open(file_path, 'a') as file:\n",
    "        file.write(s)"
   ]
  }
 ],
 "metadata": {
  "kernelspec": {
   "display_name": ".venv",
   "language": "python",
   "name": "python3"
  },
  "language_info": {
   "codemirror_mode": {
    "name": "ipython",
    "version": 3
   },
   "file_extension": ".py",
   "mimetype": "text/x-python",
   "name": "python",
   "nbconvert_exporter": "python",
   "pygments_lexer": "ipython3",
   "version": "3.10.11"
  }
 },
 "nbformat": 4,
 "nbformat_minor": 2
}
