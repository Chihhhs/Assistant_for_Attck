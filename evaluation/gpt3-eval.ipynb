{
 "cells": [
  {
   "cell_type": "code",
   "execution_count": 2,
   "metadata": {},
   "outputs": [],
   "source": [
    "from  langchain_openai import ChatOpenAI\n",
    "from dotenv import load_dotenv\n",
    "\n",
    "load_dotenv()\n",
    "\n",
    "llm = ChatOpenAI(model=\"gpt-3.5-turbo-0125\")"
   ]
  },
  {
   "cell_type": "code",
   "execution_count": null,
   "metadata": {},
   "outputs": [],
   "source": [
    "qurey =\"\"\"1. Explain how the technique \"Obfuscated Files or Information\" operates and its application in avoiding detection.\n",
    "1. What techniques might attackers use to discover network services and connections on the target system? Explain the operation principles and potential impact of these techniques.\n",
    "1. Describe how attackers utilize application layer protocols (such as web protocols, file transfer protocols, mail protocols, DNS, etc.) for command and control (C2) communications, and discuss possible detection and prevention methods.\n",
    "1. What are some of the ways adversaries use proxies to obfuscate their communication in a compromised network?\"\"\"\n",
    "\n",
    "qurey =qurey.replace(\"1. \",\"\")\n",
    "questions = qurey.split(\"\\n\")\n",
    "print(questions)"
   ]
  },
  {
   "cell_type": "code",
   "execution_count": null,
   "metadata": {},
   "outputs": [],
   "source": [
    "for j,i in enumerate(questions):\n",
    "    format = ''\n",
    "    gpt_ans = llm.invoke(i)\n",
    "    format+= f\"## {str(j+1)}. {str(i)}\\n{gpt_ans.content}\\n\\n\"\n",
    "    print(format)\n",
    "    with open(\"./gpt3.md\",'a') as f:\n",
    "        f.write(format)\n",
    "        f.close()"
   ]
  }
 ],
 "metadata": {
  "kernelspec": {
   "display_name": ".venv",
   "language": "python",
   "name": "python3"
  },
  "language_info": {
   "codemirror_mode": {
    "name": "ipython",
    "version": 3
   },
   "file_extension": ".py",
   "mimetype": "text/x-python",
   "name": "python",
   "nbconvert_exporter": "python",
   "pygments_lexer": "ipython3",
   "version": "3.9.6"
  }
 },
 "nbformat": 4,
 "nbformat_minor": 2
}
