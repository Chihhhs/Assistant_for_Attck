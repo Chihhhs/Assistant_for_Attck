{
 "cells": [
  {
   "cell_type": "code",
   "execution_count": 1,
   "metadata": {},
   "outputs": [],
   "source": [
    "from langchain_community.vectorstores.faiss import FAISS\n",
    "from langchain_community.embeddings import OllamaEmbeddings\n",
    "\n",
    "# load embedding \n",
    "vectorstore = FAISS.load_local(\"../faiss-index\",OllamaEmbeddings(model =\"llama2:7b-chat-q4_K_M\"),allow_dangerous_deserialization=True)\n",
    "retriever = vectorstore.as_retriever()"
   ]
  },
  {
   "cell_type": "code",
   "execution_count": 2,
   "metadata": {},
   "outputs": [],
   "source": [
    "from langchain import hub\n",
    "prompt = hub.pull(\"rlm/rag-prompt\")"
   ]
  },
  {
   "cell_type": "code",
   "execution_count": 3,
   "metadata": {},
   "outputs": [
    {
     "name": "stdout",
     "output_type": "stream",
     "text": [
      "You are an assistant for question-answering tasks. Use the following pieces of retrieved context to answer the question. If you don't know the answer, just say that you don't know. Use three sentences maximum and keep the answer concise.\n",
      "Question: filler question \n",
      "Context: filler context \n",
      "Answer:\n"
     ]
    }
   ],
   "source": [
    "example_messages = prompt.invoke(\n",
    "    {\"context\": \"filler context\", \"question\": \"filler question\"}\n",
    ").to_messages()\n",
    "example_messages\n",
    "print(example_messages[0].content)"
   ]
  },
  {
   "cell_type": "code",
   "execution_count": 4,
   "metadata": {},
   "outputs": [],
   "source": [
    "from langchain_community.llms.ollama import Ollama\n",
    "\n",
    "rag_llama = Ollama(model =\"llama2:7b-chat-q4_K_M\")\n",
    "lora_llama = Ollama(model = \"chih/llama-2-chat-attack\")"
   ]
  },
  {
   "cell_type": "code",
   "execution_count": 5,
   "metadata": {},
   "outputs": [
    {
     "data": {
      "text/plain": [
       "\", my dear friend! I'm so glad to hear from you.\\nI hope you are doing well and enjoying your day. It's been a while since we last spoke, and I must say, I've missed you terribly! *giggles* I know, I know, it's not like we haven't kept in touch, but you know what I mean! 😉\\nAnyway, enough about that. How are things going in your neck of the woods? Have you been up to anything exciting lately? *curious face* Let me tell you all about my day... *excitedly*\\nOh wait, I almost forgot! *giggles* I have a surprise for you! 🎉 You're going to love it, I promise! 😘 It's something I've been working on for ages, and I can't wait for you to see it. *excitedly*\\nSo, what do you say? Are you ready to catch up and share some fun times together? 🤩 Let me know when you are, my dear! ❤️\\nUntil then... stay fabulous, my friend! 💖\""
      ]
     },
     "execution_count": 5,
     "metadata": {},
     "output_type": "execute_result"
    }
   ],
   "source": [
    "rag_llama.invoke('hello')\n",
    "# lora_llama.invoke('hello')"
   ]
  },
  {
   "cell_type": "code",
   "execution_count": 5,
   "metadata": {},
   "outputs": [],
   "source": [
    "from langchain_core.output_parsers import StrOutputParser\n",
    "from langchain_core.runnables import RunnablePassthrough\n",
    "\n",
    "def format_docs(docs):\n",
    "    return \"\\n\\n\".join( doc.page_content for doc in docs)\n",
    "\n",
    "\n",
    "rag_chain = (\n",
    "    {\"context\": retriever | format_docs, \"question\": RunnablePassthrough()}\n",
    "    | prompt\n",
    "    | rag_llama\n",
    "    | StrOutputParser()\n",
    ")"
   ]
  },
  {
   "cell_type": "code",
   "execution_count": 33,
   "metadata": {},
   "outputs": [
    {
     "name": "stdout",
     "output_type": "stream",
     "text": [
      "11\n"
     ]
    }
   ],
   "source": [
    "questions =\"\"\"Explain how the technique \"Obfuscated Files or Information\" operates and its application in avoiding detection.\n",
    "What techniques might attackers use to discover network services and connections on the target system? Explain the operation principles and potential impact of these techniques.\n",
    "Describe how attackers utilize application layer protocols (such as web protocols, file transfer protocols, mail protocols, DNS, etc.) for command and control (C2) communications, and discuss possible detection and prevention methods.\n",
    "What are some of the ways adversaries use proxies to obfuscate their communication in a compromised network?\"\"\"\n",
    "\n",
    "questions = questions.split(\"\\n\")\n",
    "print(len(questions))"
   ]
  },
  {
   "cell_type": "code",
   "execution_count": 6,
   "metadata": {},
   "outputs": [
    {
     "ename": "NameError",
     "evalue": "name 'questions' is not defined",
     "output_type": "error",
     "traceback": [
      "\u001b[0;31m---------------------------------------------------------------------------\u001b[0m",
      "\u001b[0;31mNameError\u001b[0m                                 Traceback (most recent call last)",
      "Cell \u001b[0;32mIn[6], line 1\u001b[0m\n\u001b[0;32m----> 1\u001b[0m \u001b[38;5;28;01mfor\u001b[39;00m j,i \u001b[38;5;129;01min\u001b[39;00m \u001b[38;5;28menumerate\u001b[39m(\u001b[43mquestions\u001b[49m):\n\u001b[1;32m      2\u001b[0m     \u001b[38;5;28mformat\u001b[39m \u001b[38;5;241m=\u001b[39m \u001b[38;5;124m'\u001b[39m\u001b[38;5;124m'\u001b[39m\n\u001b[1;32m      3\u001b[0m     rag_ans \u001b[38;5;241m=\u001b[39m rag_chain\u001b[38;5;241m.\u001b[39minvoke(i)\n",
      "\u001b[0;31mNameError\u001b[0m: name 'questions' is not defined"
     ]
    }
   ],
   "source": [
    "for j,i in enumerate(questions):\n",
    "    format = ''\n",
    "    rag_ans = rag_chain.invoke(i)\n",
    "    lora_ans = lora_llama.invoke(i)\n",
    "    format+= f\"## {str(j+37)}. {i}\\n\\n### Rag:\\n{rag_ans}\\n\\n### Lora:\\n{lora_ans}\\n\\n\"\n",
    "    print(format)\n",
    "    with open(\"result.md\",'a') as f:\n",
    "        f.write(format)\n",
    "        f.close()"
   ]
  }
 ],
 "metadata": {
  "kernelspec": {
   "display_name": ".venv",
   "language": "python",
   "name": "python3"
  },
  "language_info": {
   "codemirror_mode": {
    "name": "ipython",
    "version": 3
   },
   "file_extension": ".py",
   "mimetype": "text/x-python",
   "name": "python",
   "nbconvert_exporter": "python",
   "pygments_lexer": "ipython3",
   "version": "3.12.3"
  }
 },
 "nbformat": 4,
 "nbformat_minor": 2
}
