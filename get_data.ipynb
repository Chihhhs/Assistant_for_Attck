{
 "cells": [
  {
   "cell_type": "code",
   "execution_count": 6,
   "metadata": {},
   "outputs": [
    {
     "name": "stdout",
     "output_type": "stream",
     "text": [
      "Retrieved 14 ATT&CK tactics.\n",
      "There are 637 techniques related to the Defense Evasion tactic.\n",
      "Retrieved 43 ATT&CK mitigations.\n"
     ]
    }
   ],
   "source": [
    "from mitreattack.stix20 import MitreAttackData\n",
    "\n",
    "mitre_attack_data = MitreAttackData(\"enterprise-attack.json\")\n",
    "\n",
    "\n",
    "tactics = mitre_attack_data.get_tactics(remove_revoked_deprecated=True)\n",
    "techniques = mitre_attack_data.get_techniques( remove_revoked_deprecated=True)\n",
    "mitigations = mitre_attack_data.get_mitigations(remove_revoked_deprecated=True)\n",
    "\n",
    "\n",
    "print(f\"Retrieved {len(tactics)} ATT&CK tactics.\")\n",
    "print(f\"There are {len(techniques)} techniques related to the Defense Evasion tactic.\")\n",
    "print(f\"Retrieved {len(mitigations)} ATT&CK mitigations.\")"
   ]
  },
  {
   "cell_type": "code",
   "execution_count": 11,
   "metadata": {},
   "outputs": [
    {
     "name": "stdout",
     "output_type": "stream",
     "text": [
      "type\n",
      "spec_version\n",
      "id\n",
      "created_by_ref\n",
      "created\n",
      "modified\n",
      "revoked\n",
      "external_references\n",
      "object_marking_refs\n",
      "name\n",
      "description\n",
      "x_mitre_attack_spec_version\n",
      "x_mitre_domains\n",
      "x_mitre_modified_by_ref\n",
      "x_mitre_shortname\n",
      "x_mitre_version\n",
      "=====================================\n",
      "type\n",
      "id\n",
      "created_by_ref\n",
      "created\n",
      "modified\n",
      "name\n",
      "description\n",
      "kill_chain_phases\n",
      "revoked\n",
      "external_references\n",
      "object_marking_refs\n",
      "x_mitre_data_sources\n",
      "x_mitre_defense_bypassed\n",
      "x_mitre_detection\n",
      "x_mitre_domains\n",
      "x_mitre_is_subtechnique\n",
      "x_mitre_modified_by_ref\n",
      "x_mitre_platforms\n",
      "x_mitre_version\n"
     ]
    }
   ],
   "source": [
    "for col in tactics[0]:\n",
    "    print(col)\n",
    "print(\"=====================================\")\n",
    "for col in techniques[0]:\n",
    "    print(col)\n",
    "\n",
    "remove = [\"modified\",\"\"]\n",
    "# tactics.remove(\"spec_version\")"
   ]
  },
  {
   "cell_type": "code",
   "execution_count": null,
   "metadata": {},
   "outputs": [],
   "source": [
    "from dotenv import load_dotenv\n",
    "import os\n",
    "load_dotenv()"
   ]
  },
  {
   "cell_type": "code",
   "execution_count": null,
   "metadata": {},
   "outputs": [],
   "source": [
    "tactics_dataset = [message for i in range(600)]\n",
    "tactics_dataset = {\"tactics_dataset\":tactics_dataset}"
   ]
  },
  {
   "cell_type": "code",
   "execution_count": null,
   "metadata": {},
   "outputs": [],
   "source": [
    "from datasets import load_dataset\n",
    "dataset =load_dataset(\"Xcvddax/Full-attack\")\n",
    "\n",
    "from datasets import Dataset\n",
    "msg_ds = Dataset.from_dict(dataset)\n",
    "msg_ds = msg_ds.train_test_split(test_size=0.1, seed=42)\n",
    "\n",
    "# 上傳到 Hugging Face\n",
    "msg_ds.push_to_hub(\"Xcvddax/Full-attack\", use_auth_token=os.getenv(\"HUGGINGFAACE_API_KEY\"))"
   ]
  }
 ],
 "metadata": {
  "kernelspec": {
   "display_name": "Python 3",
   "language": "python",
   "name": "python3"
  },
  "language_info": {
   "codemirror_mode": {
    "name": "ipython",
    "version": 3
   },
   "file_extension": ".py",
   "mimetype": "text/x-python",
   "name": "python",
   "nbconvert_exporter": "python",
   "pygments_lexer": "ipython3",
   "version": "3.10.11"
  },
  "orig_nbformat": 4
 },
 "nbformat": 4,
 "nbformat_minor": 2
}
