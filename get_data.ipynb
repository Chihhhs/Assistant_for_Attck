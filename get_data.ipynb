{
 "cells": [
  {
   "cell_type": "code",
   "execution_count": 8,
   "metadata": {},
   "outputs": [
    {
     "name": "stdout",
     "output_type": "stream",
     "text": [
      "Retrieved 14 ATT&CK tactics.\n",
      "There are 198 techniques related to the Defense Evasion tactic.\n",
      "Retrieved 43 ATT&CK mitigations.\n"
     ]
    }
   ],
   "source": [
    "from mitreattack.stix20 import MitreAttackData\n",
    "\n",
    "mitre_attack_data = MitreAttackData(\"enterprise-attack.json\")\n",
    "\n",
    "\n",
    "tactics = mitre_attack_data.get_tactics(remove_revoked_deprecated=True)\n",
    "techniques = mitre_attack_data.get_techniques_by_tactic(\n",
    "    \"defense-evasion\", \"enterprise-attack\", remove_revoked_deprecated=True\n",
    ")\n",
    "mitigations = mitre_attack_data.get_mitigations(remove_revoked_deprecated=True)\n",
    "\n",
    "\n",
    "print(f\"Retrieved {len(tactics)} ATT&CK tactics.\")\n",
    "print(f\"There are {len(techniques)} techniques related to the Defense Evasion tactic.\")\n",
    "print(f\"Retrieved {len(mitigations)} ATT&CK mitigations.\")"
   ]
  },
  {
   "cell_type": "code",
   "execution_count": 13,
   "metadata": {},
   "outputs": [
    {
     "name": "stdout",
     "output_type": "stream",
     "text": [
      "type\n",
      "spec_version\n",
      "id\n",
      "created_by_ref\n",
      "created\n",
      "modified\n",
      "revoked\n",
      "external_references\n",
      "object_marking_refs\n",
      "name\n",
      "description\n",
      "x_mitre_attack_spec_version\n",
      "x_mitre_domains\n",
      "x_mitre_modified_by_ref\n",
      "x_mitre_shortname\n",
      "x_mitre_version\n"
     ]
    }
   ],
   "source": [
    "for col in tactics[0]:\n",
    "    print(col)\n",
    "colm_tactics = ['type','id','name','description']\n"
   ]
  },
  {
   "cell_type": "code",
   "execution_count": 14,
   "metadata": {},
   "outputs": [
    {
     "name": "stdout",
     "output_type": "stream",
     "text": [
      "x-mitre-tactic\n",
      "x-mitre-tactic--2558fd61-8c75-4730-94c4-11926db2a263\n",
      "Credential Access\n",
      "The adversary is trying to steal account names and passwords.\n",
      "\n",
      "Credential Access consists of techniques for stealing credentials like account names and passwords. Techniques used to get credentials include keylogging or credential dumping. Using legitimate credentials can give adversaries access to systems, make them harder to detect, and provide the opportunity to create more accounts to help achieve their goals.\n",
      "2018-10-17 00:14:20.652000+00:00\n"
     ]
    }
   ],
   "source": [
    "for i in colm_tactics:\n",
    "    print(tactics[0][i])"
   ]
  },
  {
   "cell_type": "code",
   "execution_count": 15,
   "metadata": {},
   "outputs": [
    {
     "name": "stdout",
     "output_type": "stream",
     "text": [
      "type\n",
      "spec_version\n",
      "id\n",
      "created_by_ref\n",
      "created\n",
      "modified\n",
      "name\n",
      "description\n",
      "kill_chain_phases\n",
      "revoked\n",
      "external_references\n",
      "object_marking_refs\n",
      "x_mitre_attack_spec_version\n",
      "x_mitre_data_sources\n",
      "x_mitre_defense_bypassed\n",
      "x_mitre_detection\n",
      "x_mitre_domains\n",
      "x_mitre_is_subtechnique\n",
      "x_mitre_modified_by_ref\n",
      "x_mitre_platforms\n",
      "x_mitre_version\n"
     ]
    }
   ],
   "source": [
    "for col in techniques[0]:\n",
    "    print(col)"
   ]
  },
  {
   "cell_type": "code",
   "execution_count": 19,
   "metadata": {},
   "outputs": [
    {
     "name": "stdout",
     "output_type": "stream",
     "text": [
      "attack-pattern\n",
      "attack-pattern--0042a9f5-f053-4769-b3ef-9ad018dfa298\n",
      "identity--c78cb6e5-0c4b-4611-8297-d1b8b55e40b5\n",
      "Extra Window Memory Injection\n",
      "Adversaries may inject malicious code into process via Extra Window Memory (EWM) in order to evade process-based defenses as well as possibly elevate privileges. EWM injection is a method of executing arbitrary code in the address space of a separate live process. \n",
      "\n",
      "Before creating a window, graphical Windows-based processes must prescribe to or register a windows class, which stipulate appearance and behavior (via windows procedures, which are functions that handle input/output of data).(Citation: Microsoft Window Classes) Registration of new windows classes can include a request for up to 40 bytes of EWM to be appended to the allocated memory of each instance of that class. This EWM is intended to store data specific to that window and has specific application programming interface (API) functions to set and get its value. (Citation: Microsoft GetWindowLong function) (Citation: Microsoft SetWindowLong function)\n",
      "\n",
      "Although small, the EWM is large enough to store a 32-bit pointer and is often used to point to a windows procedure. Malware may possibly utilize this memory location in part of an attack chain that includes writing code to shared sections of the process’s memory, placing a pointer to the code in EWM, then invoking execution by returning execution control to the address in the process’s EWM.\n",
      "\n",
      "Execution granted through EWM injection may allow access to both the target process's memory and possibly elevated privileges. Writing payloads to shared sections also avoids the use of highly monitored API calls such as <code>WriteProcessMemory</code> and <code>CreateRemoteThread</code>.(Citation: Elastic Process Injection July 2017) More sophisticated malware samples may also potentially bypass protection mechanisms such as data execution prevention (DEP) by triggering a combination of windows procedures and other system functions that will rewrite the malicious payload inside an executable portion of the target process.  (Citation: MalwareTech Power Loader Aug 2013) (Citation: WeLiveSecurity Gapz and Redyms Mar 2013)\n",
      "\n",
      "Running code in the context of another process may allow access to the process's memory, system/network resources, and possibly elevated privileges. Execution via EWM injection may also evade detection from security products since the execution is masked under a legitimate process. \n",
      "[KillChainPhase(kill_chain_name='mitre-attack', phase_name='defense-evasion'), KillChainPhase(kill_chain_name='mitre-attack', phase_name='privilege-escalation')]\n",
      "['marking-definition--fa42a846-8d90-4e51-bc29-71d5b4802168']\n",
      "[ExternalReference(source_name='mitre-attack', url='https://attack.mitre.org/techniques/T1055/011', external_id='T1055.011'), ExternalReference(source_name='Microsoft Window Classes', description='Microsoft. (n.d.). About Window Classes. Retrieved December 16, 2017.', url='https://msdn.microsoft.com/library/windows/desktop/ms633574.aspx'), ExternalReference(source_name='Microsoft GetWindowLong function', description='Microsoft. (n.d.). GetWindowLong function. Retrieved December 16, 2017.', url='https://msdn.microsoft.com/library/windows/desktop/ms633584.aspx'), ExternalReference(source_name='Microsoft SetWindowLong function', description='Microsoft. (n.d.). SetWindowLong function. Retrieved December 16, 2017.', url='https://msdn.microsoft.com/library/windows/desktop/ms633591.aspx'), ExternalReference(source_name='Elastic Process Injection July 2017', description='Hosseini, A. (2017, July 18). Ten Process Injection Techniques: A Technical Survey Of Common And Trending Process Injection Techniques. Retrieved December 7, 2017.', url='https://www.endgame.com/blog/technical-blog/ten-process-injection-techniques-technical-survey-common-and-trending-process'), ExternalReference(source_name='MalwareTech Power Loader Aug 2013', description='MalwareTech. (2013, August 13). PowerLoader Injection – Something truly amazing. Retrieved December 16, 2017.', url='https://www.malwaretech.com/2013/08/powerloader-injection-something-truly.html'), ExternalReference(source_name='WeLiveSecurity Gapz and Redyms Mar 2013', description='Matrosov, A. (2013, March 19). Gapz and Redyms droppers based on Power Loader code. Retrieved December 16, 2017.', url='https://www.welivesecurity.com/2013/03/19/gapz-and-redyms-droppers-based-on-power-loader-code/'), ExternalReference(source_name='Microsoft SendNotifyMessage function', description='Microsoft. (n.d.). SendNotifyMessage function. Retrieved December 16, 2017.', url='https://msdn.microsoft.com/library/windows/desktop/ms644953.aspx')]\n",
      "['Windows']\n"
     ]
    }
   ],
   "source": [
    "colm_tech = ['type','id','created_by_ref','name','description','kill_chain_phases','object_marking_refs','external_references','x_mitre_platforms']\n",
    "for i in colm_tech:\n",
    "    print(techniques[0][i])"
   ]
  }
 ],
 "metadata": {
  "kernelspec": {
   "display_name": "Python 3",
   "language": "python",
   "name": "python3"
  },
  "language_info": {
   "codemirror_mode": {
    "name": "ipython",
    "version": 3
   },
   "file_extension": ".py",
   "mimetype": "text/x-python",
   "name": "python",
   "nbconvert_exporter": "python",
   "pygments_lexer": "ipython3",
   "version": "3.9.6"
  },
  "orig_nbformat": 4
 },
 "nbformat": 4,
 "nbformat_minor": 2
}
