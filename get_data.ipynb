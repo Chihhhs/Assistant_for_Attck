{
 "cells": [
  {
   "cell_type": "code",
   "execution_count": 67,
   "metadata": {},
   "outputs": [
    {
     "name": "stdout",
     "output_type": "stream",
     "text": [
      "Retrieved 14 ATT&CK tactics.\n",
      "There are 637 techniques related to the Defense Evasion tactic.\n",
      "Retrieved 43 ATT&CK mitigations.\n"
     ]
    }
   ],
   "source": [
    "from mitreattack.stix20 import MitreAttackData\n",
    "\n",
    "mitre_attack_data = MitreAttackData(\"enterprise-attack.json\")\n",
    "\n",
    "\n",
    "tactics = mitre_attack_data.get_tactics(remove_revoked_deprecated=True)\n",
    "techniques = mitre_attack_data.get_techniques( remove_revoked_deprecated=True)\n",
    "mitigations = mitre_attack_data.get_mitigations(remove_revoked_deprecated=True)\n",
    "\n",
    "\n",
    "print(f\"Retrieved {len(tactics)} ATT&CK tactics.\")\n",
    "print(f\"There are {len(techniques)} techniques related to the Defense Evasion tactic.\")\n",
    "print(f\"Retrieved {len(mitigations)} ATT&CK mitigations.\")"
   ]
  },
  {
   "cell_type": "code",
   "execution_count": 130,
   "metadata": {},
   "outputs": [
    {
     "name": "stdout",
     "output_type": "stream",
     "text": [
      "597\n",
      "Dataset({\n",
      "    features: ['type', 'id', 'created_by_ref', 'created', 'modified', 'name', 'description', 'kill_chain_phases', 'revoked', 'external_references', 'object_marking_refs', 'x_mitre_detection', 'x_mitre_domains', 'x_mitre_is_subtechnique', 'x_mitre_modified_by_ref', 'x_mitre_platforms', 'x_mitre_version'],\n",
      "    num_rows: 637\n",
      "})\n"
     ]
    }
   ],
   "source": [
    "# 假設 tactics 和 techniques 是你的資料結構\n",
    "combined_data = {}\n",
    "\n",
    "# 合併 tactics 中的資料\n",
    "for technique in techniques:\n",
    "    for col in technique:\n",
    "        combined_data.setdefault(col, []).append(technique[col])\n",
    "\n",
    "print(len(combined_data['x_mitre_data_sources']))\n",
    "\n",
    "combined_data.pop('x_mitre_data_sources', None)\n",
    "combined_data.pop('x_mitre_defense_bypassed', None)\n",
    "combined_data.pop('x_mitre_attack_spec_version', None)\n",
    "combined_data.pop('x_mitre_contributors', None)\n",
    "combined_data.pop('x_mitre_deprecated', None)\n",
    "combined_data.pop('x_mitre_permissions_required', None)\n",
    "combined_data.pop('x_mitre_remote_support', None)\n",
    "combined_data.pop('x_mitre_system_requirements', None)\n",
    "combined_data.pop('x_mitre_impact_type', None)\n",
    "combined_data.pop('x_mitre_effective_permissions', None)\n",
    "combined_data.pop('x_mitre_network_requirements', None)\n",
    "\n",
    "from datasets import Dataset\n",
    "msg_ds = Dataset.from_dict(combined_data)\n",
    "\n",
    "print(msg_ds)\n",
    "\n"
   ]
  },
  {
   "cell_type": "code",
   "execution_count": null,
   "metadata": {},
   "outputs": [],
   "source": [
    "combined_data = {}\n",
    "\n",
    "# 合併 tactics 中的資料\n",
    "for mitigation in mitigations:\n",
    "    for col in mitigation:\n",
    "        combined_data.setdefault(col, []).append(mitigation[col])\n",
    "        \n",
    "from datasets import Dataset\n",
    "msg_ds = Dataset.from_dict(combined_data)\n",
    "\n",
    "print(msg_ds)"
   ]
  },
  {
   "cell_type": "code",
   "execution_count": 131,
   "metadata": {},
   "outputs": [
    {
     "name": "stdout",
     "output_type": "stream",
     "text": [
      "637\n"
     ]
    }
   ],
   "source": [
    "\n",
    "print(len(msg_ds))"
   ]
  },
  {
   "cell_type": "code",
   "execution_count": 132,
   "metadata": {},
   "outputs": [
    {
     "name": "stderr",
     "output_type": "stream",
     "text": [
      "Uploading the dataset shards:   0%|          | 0/1 [00:00<?, ?it/s]\n",
      "Creating parquet from Arrow format: 100%|██████████| 1/1 [00:00<00:00, 95.12ba/s]\n",
      "Uploading the dataset shards: 100%|██████████| 1/1 [00:03<00:00,  3.85s/it]\n"
     ]
    },
    {
     "data": {
      "text/plain": [
       "CommitInfo(commit_url='https://huggingface.co/datasets/Xcvddax/Attack-techniques/commit/2cdcffed9ce1a2e5968aa8edba097ea49fd8e37c', commit_message='Upload dataset', commit_description='', oid='2cdcffed9ce1a2e5968aa8edba097ea49fd8e37c', pr_url=None, pr_revision=None, pr_num=None)"
      ]
     },
     "execution_count": 132,
     "metadata": {},
     "output_type": "execute_result"
    }
   ],
   "source": [
    "from dotenv import load_dotenv\n",
    "import os\n",
    "load_dotenv()\n",
    "msg_ds.push_to_hub(\"Xcvddax/Attack-techniques\", token=os.getenv(\"HUGGINGFAACE_API_KEY\"))"
   ]
  }
 ],
 "metadata": {
  "kernelspec": {
   "display_name": "Python 3",
   "language": "python",
   "name": "python3"
  },
  "language_info": {
   "codemirror_mode": {
    "name": "ipython",
    "version": 3
   },
   "file_extension": ".py",
   "mimetype": "text/x-python",
   "name": "python",
   "nbconvert_exporter": "python",
   "pygments_lexer": "ipython3",
   "version": "3.10.11"
  },
  "orig_nbformat": 4
 },
 "nbformat": 4,
 "nbformat_minor": 2
}
