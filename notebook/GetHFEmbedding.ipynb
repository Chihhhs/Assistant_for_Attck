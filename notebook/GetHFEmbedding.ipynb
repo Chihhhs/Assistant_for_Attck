{
 "cells": [
  {
   "cell_type": "code",
   "execution_count": null,
   "metadata": {},
   "outputs": [],
   "source": [
    "from sentence_transformers import SentenceTransformer\n",
    "sentences = [\"This is an example sentence\", \"Each sentence is converted to a vector\", \"This is a test\"]\n",
    "\n",
    "model = SentenceTransformer(\"Xcvddax/Attack-techniques-full-gemma\")\n",
    "embeddings = model.encode(sentences)\n",
    "print(embeddings)"
   ]
  }
 ],
 "metadata": {
  "language_info": {
   "name": "python"
  }
 },
 "nbformat": 4,
 "nbformat_minor": 2
}
