{
 "cells": [
  {
   "cell_type": "code",
   "execution_count": 9,
   "metadata": {},
   "outputs": [],
   "source": [
    "from datasets import load_dataset\n",
    "\n",
    "# dataset1 = load_dataset(\"jiandong/crimson-attck-vectors\")\n",
    "# dataset = load_dataset(\"Xcvddax/ATT\")\n",
    "# dataset3 = load_dataset(\"jiandong/crimson-attck-bge-vectors\")\n",
    "\n",
    "dataset = load_dataset(\"Xcvddax/Attack-techniques\",split='train')\n",
    "# dataset2 = load_dataset(\"dear-daddy/attck\",split='train')\n",
    " "
   ]
  },
  {
   "cell_type": "code",
   "execution_count": 14,
   "metadata": {},
   "outputs": [
    {
     "ename": "TypeError",
     "evalue": "load_local() missing 1 required positional argument: 'folder_path'",
     "output_type": "error",
     "traceback": [
      "\u001b[0;31m---------------------------------------------------------------------------\u001b[0m",
      "\u001b[0;31mTypeError\u001b[0m                                 Traceback (most recent call last)",
      "\u001b[1;32m/Users/chihhlinn/code/Copper_112-2/att&ck/dataset.ipynb 儲存格 5\u001b[0m line \u001b[0;36m1\n\u001b[1;32m     <a href='vscode-notebook-cell:/Users/chihhlinn/code/Copper_112-2/att%26ck/dataset.ipynb#W6sZmlsZQ%3D%3D?line=11'>12</a>\u001b[0m \u001b[39mfrom\u001b[39;00m \u001b[39mlangchain\u001b[39;00m\u001b[39m.\u001b[39;00m\u001b[39mtext_splitter\u001b[39;00m \u001b[39mimport\u001b[39;00m RecursiveCharacterTextSplitter\n\u001b[1;32m     <a href='vscode-notebook-cell:/Users/chihhlinn/code/Copper_112-2/att%26ck/dataset.ipynb#W6sZmlsZQ%3D%3D?line=13'>14</a>\u001b[0m \u001b[39m# text_splitter = RecursiveCharacterTextSplitter(chunk_size=1000, chunk_overlap=200)\u001b[39;00m\n\u001b[1;32m     <a href='vscode-notebook-cell:/Users/chihhlinn/code/Copper_112-2/att%26ck/dataset.ipynb#W6sZmlsZQ%3D%3D?line=14'>15</a>\u001b[0m \u001b[39m# splits = text_splitter.split_documents(dataset)\u001b[39;00m\n\u001b[1;32m     <a href='vscode-notebook-cell:/Users/chihhlinn/code/Copper_112-2/att%26ck/dataset.ipynb#W6sZmlsZQ%3D%3D?line=15'>16</a>\u001b[0m \u001b[39m# vectorstore = FAISS.from_documents(documents=splits, embedding=OpenAIEmbeddings())\u001b[39;00m\n\u001b[0;32m---> <a href='vscode-notebook-cell:/Users/chihhlinn/code/Copper_112-2/att%26ck/dataset.ipynb#W6sZmlsZQ%3D%3D?line=17'>18</a>\u001b[0m vectorstore \u001b[39m=\u001b[39m FAISS\u001b[39m.\u001b[39;49mload_local(embeddings\u001b[39m=\u001b[39;49membeddings)\n\u001b[1;32m     <a href='vscode-notebook-cell:/Users/chihhlinn/code/Copper_112-2/att%26ck/dataset.ipynb#W6sZmlsZQ%3D%3D?line=19'>20</a>\u001b[0m \u001b[39m# Retrieve and generate using the relevant snippets of the blog.\u001b[39;00m\n\u001b[1;32m     <a href='vscode-notebook-cell:/Users/chihhlinn/code/Copper_112-2/att%26ck/dataset.ipynb#W6sZmlsZQ%3D%3D?line=20'>21</a>\u001b[0m retriever \u001b[39m=\u001b[39m vectorstore\u001b[39m.\u001b[39mas_retriever()\n",
      "\u001b[0;31mTypeError\u001b[0m: load_local() missing 1 required positional argument: 'folder_path'"
     ]
    }
   ],
   "source": [
    "from dotenv import load_dotenv\n",
    "load_dotenv()\n",
    "\n",
    "from langchain_community.vectorstores.faiss import FAISS\n",
    "from langchain_community.embeddings import OpenAIEmbeddings\n",
    "from langchain.text_splitter import RecursiveCharacterTextSplitter\n",
    "\n",
    "text_splitter = RecursiveCharacterTextSplitter(chunk_size=1000, chunk_overlap=200)\n",
    "splits = text_splitter.split_documents(dataset)\n",
    "vectorstore = FAISS.from_documents(documents=splits, embedding=OpenAIEmbeddings())\n",
    "\n",
    "# Retrieve and generate using the relevant snippets of the blog.\n",
    "retriever = vectorstore.as_retriever()"
   ]
  },
  {
   "cell_type": "code",
   "execution_count": null,
   "metadata": {},
   "outputs": [],
   "source": [
    "from langchain import hub\n",
    "prompt = hub.pull(\"rlm/rag-prompt\")\n",
    "example_messages = prompt.invoke(\n",
    "    {\"context\": \"filler context\", \"question\": \"filler question\"}\n",
    ").to_messages()\n",
    "example_messages\n",
    "print(example_messages[0].content)"
   ]
  },
  {
   "cell_type": "code",
   "execution_count": null,
   "metadata": {},
   "outputs": [],
   "source": [
    "from  langchain_openai import ChatOpenAI\n",
    "\n",
    "llm = ChatOpenAI(model=\"gpt-3.5-turbo-0125\")"
   ]
  },
  {
   "cell_type": "code",
   "execution_count": null,
   "metadata": {},
   "outputs": [],
   "source": [
    "from langchain_core.output_parsers import StrOutputParser\n",
    "from langchain_core.runnables import RunnablePassthrough\n",
    "\n",
    "\n",
    "def format_docs(docs):\n",
    "  output_texts = []\n",
    "  for i in range(len(docs)):\n",
    "      text = f\"\"\"id: {docs['id'][i]}\\n ,attck_id: {docs['attck_id'][i]} , description: {docs['description'][i]} ,\n",
    "        kill_chain_phases: {docs['kill_chain_phases'][i]} , domains: {docs['domains'][i]} , tactic_type: {docs['tactic_type'][i]}\n",
    "        \"\"\"\n",
    "      output_texts.append(text)\n",
    "  return output_texts\n",
    "\n",
    "\n",
    "rag_chain = (\n",
    "    {\"context\": retriever | format_docs, \"question\": RunnablePassthrough()}\n",
    "    | prompt\n",
    "    | llm\n",
    "    | StrOutputParser()\n",
    ")"
   ]
  }
 ],
 "metadata": {
  "kernelspec": {
   "display_name": "Python 3",
   "language": "python",
   "name": "python3"
  },
  "language_info": {
   "codemirror_mode": {
    "name": "ipython",
    "version": 3
   },
   "file_extension": ".py",
   "mimetype": "text/x-python",
   "name": "python",
   "nbconvert_exporter": "python",
   "pygments_lexer": "ipython3",
   "version": "3.9.6"
  },
  "orig_nbformat": 4
 },
 "nbformat": 4,
 "nbformat_minor": 2
}
