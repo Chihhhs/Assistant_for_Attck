{
 "cells": [
  {
   "cell_type": "code",
   "execution_count": 67,
   "metadata": {},
   "outputs": [
    {
     "name": "stdout",
     "output_type": "stream",
     "text": [
      "Retrieved 14 ATT&CK tactics.\n",
      "There are 637 techniques related to the Defense Evasion tactic.\n",
      "Retrieved 43 ATT&CK mitigations.\n"
     ]
    }
   ],
   "source": [
    "from mitreattack.stix20 import MitreAttackData\n",
    "\n",
    "mitre_attack_data = MitreAttackData(\"enterprise-attack.json\")\n",
    "\n",
    "\n",
    "tactics = mitre_attack_data.get_tactics(remove_revoked_deprecated=True)\n",
    "techniques = mitre_attack_data.get_techniques( remove_revoked_deprecated=True)\n",
    "mitigations = mitre_attack_data.get_mitigations(remove_revoked_deprecated=True)\n",
    "\n",
    "\n",
    "print(f\"Retrieved {len(tactics)} ATT&CK tactics.\")\n",
    "print(f\"There are {len(techniques)} techniques related to the Defense Evasion tactic.\")\n",
    "print(f\"Retrieved {len(mitigations)} ATT&CK mitigations.\")"
   ]
  },
  {
   "cell_type": "code",
   "execution_count": 141,
   "metadata": {},
   "outputs": [
    {
     "name": "stdout",
     "output_type": "stream",
     "text": [
      "597\n",
      "Dataset({\n",
      "    features: ['type', 'id', 'created_by_ref', 'created', 'modified', 'name', 'description', 'kill_chain_phases', 'revoked', 'external_references', 'object_marking_refs', 'x_mitre_detection', 'x_mitre_domains', 'x_mitre_is_subtechnique', 'x_mitre_modified_by_ref', 'x_mitre_platforms', 'x_mitre_version'],\n",
      "    num_rows: 637\n",
      "})\n"
     ]
    }
   ],
   "source": [
    "# 假設 tactics 和 techniques 是你的資料結構\n",
    "combined_data = {}\n",
    "\n",
    "# 合併 tactics 中的資料\n",
    "for technique in techniques:\n",
    "    for col in technique:\n",
    "        combined_data.setdefault(col, []).append(technique[col])\n",
    "\n",
    "print(len(combined_data['x_mitre_data_sources']))\n",
    "\n",
    "combined_data.pop('x_mitre_data_sources', None)\n",
    "combined_data.pop('x_mitre_defense_bypassed', None)\n",
    "combined_data.pop('x_mitre_attack_spec_version', None)\n",
    "combined_data.pop('x_mitre_contributors', None)\n",
    "combined_data.pop('x_mitre_deprecated', None)\n",
    "combined_data.pop('x_mitre_permissions_required', None)\n",
    "combined_data.pop('x_mitre_remote_support', None)\n",
    "combined_data.pop('x_mitre_system_requirements', None)\n",
    "combined_data.pop('x_mitre_impact_type', None)\n",
    "combined_data.pop('x_mitre_effective_permissions', None)\n",
    "combined_data.pop('x_mitre_network_requirements', None)\n",
    "\n",
    "from datasets import Dataset\n",
    "msg_ds = Dataset.from_dict(combined_data)\n",
    "\n",
    "print(msg_ds)"
   ]
  },
  {
   "cell_type": "code",
   "execution_count": 149,
   "metadata": {},
   "outputs": [
    {
     "name": "stdout",
     "output_type": "stream",
     "text": [
      "Dataset({\n",
      "    features: ['type', 'id', 'created_by_ref', 'created', 'modified', 'name', 'description', 'kill_chain_phases', 'revoked', 'external_references', 'object_marking_refs', 'x_mitre_detection', 'x_mitre_domains', 'x_mitre_is_subtechnique', 'x_mitre_modified_by_ref', 'x_mitre_platforms', 'x_mitre_version'],\n",
      "    num_rows: 637\n",
      "})\n",
      "['type', 'id', 'created_by_ref', 'created', 'modified', 'name', 'description', 'kill_chain_phases', 'revoked', 'external_references', 'object_marking_refs', 'x_mitre_detection', 'x_mitre_domains', 'x_mitre_is_subtechnique', 'x_mitre_modified_by_ref', 'x_mitre_platforms', 'x_mitre_version']\n",
      " type: attack-pattern \n",
      " id: attack-pattern--0042a9f5-f053-4769-b3ef-9ad018dfa298 \n",
      " created_by_ref: identity--c78cb6e5-0c4b-4611-8297-d1b8b55e40b5 \n",
      " created: 2020-01-14 17:18:32.126000+00:00 \n",
      " modified: 2020-11-10 18:29:31.004000+00:00 \n",
      " name: Extra Window Memory Injection \n",
      " description: Adversaries may inject malicious code into process via Extra Window Memory (EWM) in order to evade process-based defenses as well as possibly elevate privileges. EWM injection is a method of executing arbitrary code in the address space of a separate live process. \n",
      "\n",
      "Before creating a window, graphical Windows-based processes must prescribe to or register a windows class, which stipulate appearance and behavior (via windows procedures, which are functions that handle input/output of data).(Citation: Microsoft Window Classes) Registration of new windows classes can include a request for up to 40 bytes of EWM to be appended to the allocated memory of each instance of that class. This EWM is intended to store data specific to that window and has specific application programming interface (API) functions to set and get its value. (Citation: Microsoft GetWindowLong function) (Citation: Microsoft SetWindowLong function)\n",
      "\n",
      "Although small, the EWM is large enough to store a 32-bit pointer and is often used to point to a windows procedure. Malware may possibly utilize this memory location in part of an attack chain that includes writing code to shared sections of the process’s memory, placing a pointer to the code in EWM, then invoking execution by returning execution control to the address in the process’s EWM.\n",
      "\n",
      "Execution granted through EWM injection may allow access to both the target process's memory and possibly elevated privileges. Writing payloads to shared sections also avoids the use of highly monitored API calls such as <code>WriteProcessMemory</code> and <code>CreateRemoteThread</code>.(Citation: Elastic Process Injection July 2017) More sophisticated malware samples may also potentially bypass protection mechanisms such as data execution prevention (DEP) by triggering a combination of windows procedures and other system functions that will rewrite the malicious payload inside an executable portion of the target process.  (Citation: MalwareTech Power Loader Aug 2013) (Citation: WeLiveSecurity Gapz and Redyms Mar 2013)\n",
      "\n",
      "Running code in the context of another process may allow access to the process's memory, system/network resources, and possibly elevated privileges. Execution via EWM injection may also evade detection from security products since the execution is masked under a legitimate process.  \n",
      " kill_chain_phases: [{'kill_chain_name': 'mitre-attack', 'phase_name': 'defense-evasion'}, {'kill_chain_name': 'mitre-attack', 'phase_name': 'privilege-escalation'}] \n",
      " revoked: False \n",
      " external_references: [{'description': None, 'external_id': 'T1055.011', 'source_name': 'mitre-attack', 'url': 'https://attack.mitre.org/techniques/T1055/011'}, {'description': 'Microsoft. (n.d.). About Window Classes. Retrieved December 16, 2017.', 'external_id': None, 'source_name': 'Microsoft Window Classes', 'url': 'https://msdn.microsoft.com/library/windows/desktop/ms633574.aspx'}, {'description': 'Microsoft. (n.d.). GetWindowLong function. Retrieved December 16, 2017.', 'external_id': None, 'source_name': 'Microsoft GetWindowLong function', 'url': 'https://msdn.microsoft.com/library/windows/desktop/ms633584.aspx'}, {'description': 'Microsoft. (n.d.). SetWindowLong function. Retrieved December 16, 2017.', 'external_id': None, 'source_name': 'Microsoft SetWindowLong function', 'url': 'https://msdn.microsoft.com/library/windows/desktop/ms633591.aspx'}, {'description': 'Hosseini, A. (2017, July 18). Ten Process Injection Techniques: A Technical Survey Of Common And Trending Process Injection Techniques. Retrieved December 7, 2017.', 'external_id': None, 'source_name': 'Elastic Process Injection July 2017', 'url': 'https://www.endgame.com/blog/technical-blog/ten-process-injection-techniques-technical-survey-common-and-trending-process'}, {'description': 'MalwareTech. (2013, August 13). PowerLoader Injection – Something truly amazing. Retrieved December 16, 2017.', 'external_id': None, 'source_name': 'MalwareTech Power Loader Aug 2013', 'url': 'https://www.malwaretech.com/2013/08/powerloader-injection-something-truly.html'}, {'description': 'Matrosov, A. (2013, March 19). Gapz and Redyms droppers based on Power Loader code. Retrieved December 16, 2017.', 'external_id': None, 'source_name': 'WeLiveSecurity Gapz and Redyms Mar 2013', 'url': 'https://www.welivesecurity.com/2013/03/19/gapz-and-redyms-droppers-based-on-power-loader-code/'}, {'description': 'Microsoft. (n.d.). SendNotifyMessage function. Retrieved December 16, 2017.', 'external_id': None, 'source_name': 'Microsoft SendNotifyMessage function', 'url': 'https://msdn.microsoft.com/library/windows/desktop/ms644953.aspx'}] \n",
      " object_marking_refs: ['marking-definition--fa42a846-8d90-4e51-bc29-71d5b4802168'] \n",
      " x_mitre_detection: Monitor for API calls related to enumerating and manipulating EWM such as GetWindowLong (Citation: Microsoft GetWindowLong function) and SetWindowLong (Citation: Microsoft SetWindowLong function). Malware associated with this technique have also used SendNotifyMessage (Citation: Microsoft SendNotifyMessage function) to trigger the associated window procedure and eventual malicious injection. (Citation: Elastic Process Injection July 2017) \n",
      " x_mitre_domains: ['enterprise-attack'] \n",
      " x_mitre_is_subtechnique: True \n",
      " x_mitre_modified_by_ref: identity--c78cb6e5-0c4b-4611-8297-d1b8b55e40b5 \n",
      " x_mitre_platforms: ['Windows'] \n",
      " x_mitre_version: 1.0 \n",
      "\n"
     ]
    }
   ],
   "source": [
    "dataset = msg_ds\n",
    "print(dataset)\n",
    "\n",
    "print(dataset.features)\n",
    "def formatting_prompts_func(dataset):\n",
    "    output_texts = []\n",
    "    for i in range(1):\n",
    "        text = \"\"\n",
    "        for key in dataset.features:\n",
    "            text += f\" {key}: {dataset[key][i]} \\n\"\n",
    "        output_texts.append(text)\n",
    "    return output_texts\n",
    "\n",
    "formatted_prompts = formatting_prompts_func()\n",
    "print(formatted_prompts[0])"
   ]
  },
  {
   "cell_type": "code",
   "execution_count": 139,
   "metadata": {},
   "outputs": [
    {
     "name": "stdout",
     "output_type": "stream",
     "text": [
      "Dataset({\n",
      "    features: ['type', 'id', 'created_by_ref', 'created', 'modified', 'name', 'description', 'revoked', 'external_references', 'object_marking_refs', 'x_mitre_domains', 'x_mitre_modified_by_ref', 'x_mitre_version'],\n",
      "    num_rows: 43\n",
      "})\n"
     ]
    }
   ],
   "source": [
    "combined_data = {}\n",
    "\n",
    "# 合併 tactics 中的資料\n",
    "for mitigation in mitigations:\n",
    "    for col in mitigation:\n",
    "        combined_data.setdefault(col, []).append(mitigation[col])\n",
    "\n",
    "combined_data.pop('x_mitre_data_sources', None)\n",
    "combined_data.pop('x_mitre_defense_bypassed', None)\n",
    "combined_data.pop('x_mitre_attack_spec_version', None)\n",
    "combined_data.pop('x_mitre_contributors', None)\n",
    "combined_data.pop('x_mitre_deprecated', None)\n",
    "combined_data.pop('x_mitre_permissions_required', None)\n",
    "combined_data.pop('x_mitre_remote_support', None)\n",
    "combined_data.pop('x_mitre_system_requirements', None)\n",
    "combined_data.pop('x_mitre_impact_type', None)\n",
    "combined_data.pop('x_mitre_effective_permissions', None)\n",
    "combined_data.pop('x_mitre_network_requirements', None)\n",
    "\n",
    "from datasets import Dataset\n",
    "msg_ds = Dataset.from_dict(combined_data)\n",
    "\n",
    "print(msg_ds)"
   ]
  },
  {
   "cell_type": "code",
   "execution_count": 131,
   "metadata": {},
   "outputs": [
    {
     "name": "stdout",
     "output_type": "stream",
     "text": [
      "637\n"
     ]
    }
   ],
   "source": [
    "\n",
    "print(len(msg_ds))"
   ]
  },
  {
   "cell_type": "code",
   "execution_count": 140,
   "metadata": {},
   "outputs": [
    {
     "name": "stderr",
     "output_type": "stream",
     "text": [
      "Uploading the dataset shards:   0%|          | 0/1 [00:00<?, ?it/s]\n",
      "Creating parquet from Arrow format: 100%|██████████| 1/1 [00:00<00:00, 996.27ba/s]\n",
      "Uploading the dataset shards: 100%|██████████| 1/1 [00:01<00:00,  1.71s/it]\n",
      "c:\\Users\\User\\Documents\\code\\Assistant_for_Attck\\.venv\\lib\\site-packages\\huggingface_hub\\file_download.py:157: UserWarning: `huggingface_hub` cache-system uses symlinks by default to efficiently store duplicated files but your machine does not support them in C:\\Users\\User\\.cache\\huggingface\\hub\\datasets--Xcvddax--Attack-mitigations. Caching files will still work but in a degraded version that might require more space on your disk. This warning can be disabled by setting the `HF_HUB_DISABLE_SYMLINKS_WARNING` environment variable. For more details, see https://huggingface.co/docs/huggingface_hub/how-to-cache#limitations.\n",
      "To support symlinks on Windows, you either need to activate Developer Mode or to run Python as an administrator. In order to see activate developer mode, see this article: https://docs.microsoft.com/en-us/windows/apps/get-started/enable-your-device-for-development\n",
      "  warnings.warn(message)\n"
     ]
    },
    {
     "data": {
      "text/plain": [
       "CommitInfo(commit_url='https://huggingface.co/datasets/Xcvddax/Attack-mitigations/commit/352679d6da58809ce7306b5aefbbc57a4c314e17', commit_message='Upload dataset', commit_description='', oid='352679d6da58809ce7306b5aefbbc57a4c314e17', pr_url=None, pr_revision=None, pr_num=None)"
      ]
     },
     "execution_count": 140,
     "metadata": {},
     "output_type": "execute_result"
    }
   ],
   "source": [
    "from dotenv import load_dotenv\n",
    "import os\n",
    "load_dotenv()\n",
    "msg_ds.push_to_hub(\"Xcvddax/Attack-mitigations\", token=os.getenv(\"HUGGINGFAACE_API_KEY\"))"
   ]
  }
 ],
 "metadata": {
  "kernelspec": {
   "display_name": "Python 3",
   "language": "python",
   "name": "python3"
  },
  "language_info": {
   "codemirror_mode": {
    "name": "ipython",
    "version": 3
   },
   "file_extension": ".py",
   "mimetype": "text/x-python",
   "name": "python",
   "nbconvert_exporter": "python",
   "pygments_lexer": "ipython3",
   "version": "3.10.11"
  },
  "orig_nbformat": 4
 },
 "nbformat": 4,
 "nbformat_minor": 2
}
