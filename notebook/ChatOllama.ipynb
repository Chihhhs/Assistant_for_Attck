{
 "cells": [
  {
   "cell_type": "code",
   "execution_count": 3,
   "metadata": {},
   "outputs": [
    {
     "name": "stdout",
     "output_type": "stream",
     "text": [
      "\n",
      "\n",
      "Injunctions in the legal context are court orders that compel a party to take or refrain from taking a specific action. A list of common types of process injunctions include:\n",
      "\n",
      "1. Temporary Restraining Order (TRO): This is an emergency injunction that prohibits one party from taking a certain action until a full hearing can be held. TROs are often used in cases involving intellectual property disputes, employment law, and other urgent matters.\n",
      "2. Preliminary Injunction: Similar to a TRO, a preliminary injunction is granted before a final decision is made in a case. It is intended to preserve the status quo until a final ruling can be issued.\n",
      "3. Mandatory Injunction: This type of injunction requires one party to take specific action, such as complying with a contract or law.\n",
      "4. Prohibitory Injunction: Conversely, a prohibitory injunction prohibits one party from taking certain actions. For example, an injunction may be issued to prevent a company from launching a new product that would violate a competitor's patent.\n",
      "5. Declaratory Judgment Injunction: This type of injunction is used to clarify the rights and obligations of the parties involved in a dispute. It may also be used to determine the scope of a contract or agreement.\n",
      "6. Permanent Injunction: A permanent injunction is a final order that prohibits or compels a party from taking a specific action. It is issued after a full hearing has been held and is intended to resolve a dispute permanently.\n",
      "7. Enjoin and Enforcement Injunctions: An enjoin injunction is used to stop a party from committing a certain act, while an enforcement injunction is used to ensure that the terms of a previous injunction are followed.\n",
      "8. Specific Performance Injunction: This type of injunction requires a party to perform a specific act, such as fulfilling a contractual obligation or returning property to the rightful owner.\n",
      "9. Accounting Injunction: An accounting injunction is used to require a party to provide an accounting of their financial dealings or activities. This may be necessary in cases involving fraud or misconduct.\n",
      "10. Disgorgement Injunction: A disgorgement injunction is similar to an accounting injunction, but it requires a party to surrender profits or other benefits that were obtained illegally or unethically.\n"
     ]
    }
   ],
   "source": [
    "from langchain_community.llms.ollama import Ollama\n",
    "\n",
    "llm = Ollama(model = 'chih/llama-2-chat-attack')\n",
    "print(llm.invoke(\"List process injuction\"))"
   ]
  }
 ],
 "metadata": {
  "kernelspec": {
   "display_name": ".venv",
   "language": "python",
   "name": "python3"
  },
  "language_info": {
   "codemirror_mode": {
    "name": "ipython",
    "version": 3
   },
   "file_extension": ".py",
   "mimetype": "text/x-python",
   "name": "python",
   "nbconvert_exporter": "python",
   "pygments_lexer": "ipython3",
   "version": "3.12.4"
  },
  "orig_nbformat": 4
 },
 "nbformat": 4,
 "nbformat_minor": 2
}
