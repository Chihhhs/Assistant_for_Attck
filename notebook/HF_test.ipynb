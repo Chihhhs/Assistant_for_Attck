{
 "cells": [
  {
   "cell_type": "code",
   "execution_count": null,
   "metadata": {},
   "outputs": [],
   "source": [
    "from transformers import AutoTokenizer , AutoModelForCausalLM \n",
    "\n",
    "from warnings import filterwarnings\n",
    "filterwarnings(\"ignore\")\n",
    "\n",
    "finetune_model = AutoModelForCausalLM.from_pretrained(\"Xcvddax/Attack-techniques-full-gemma\")\n",
    "tokenizer = AutoTokenizer.from_pretrained(\"Xcvddax/Attack-techniques-full-gemma\")"
   ]
  },
  {
   "cell_type": "code",
   "execution_count": null,
   "metadata": {},
   "outputs": [],
   "source": [
    "from transformers import GenerationConfig\n",
    "\n",
    "\n",
    "prompt = \"The description of Extra Window Memory Injection\"\n",
    "\n",
    "generation_config = GenerationConfig(\n",
    "    max_length=400,                   # 設置最大生成長度\n",
    "    min_length=100,                    # 設置最小生成長度以確保生成的文本足夠長\n",
    "    early_stopping=True,              # 啟用早停以生成完整句子\n",
    "    no_repeat_ngram_size=3,           # 防止重複3-gram的出現\n",
    "    repetition_penalty=1.2,           # 設置重複懲罰\n",
    "    num_beams=3,                      # 使用 beam search 並設置 beam 數量\n",
    "    length_penalty=1.0                # 長度懲罰，控制生成文本的長度\n",
    "    \n",
    "    \n",
    "    do_sample=True,                   # 啟用採樣模式\n",
    "    temperature=0.7,                  # 設置溫度以控制生成文本的隨機性\n",
    "    top_k=50,                         # 使用 top-k 採樣\n",
    "    top_p=0.95                        # 使用 nucleus 採樣\n",
    ")\n",
    "\n",
    "input_ids = tokenizer.encode(prompt, return_tensors=\"pt\")\n",
    "output = finetune_model.generate(input_ids,**generation_config.to_dict())\n",
    "generated_text = tokenizer.decode(output[0], skip_special_tokens=True)\n",
    "\n",
    "print(\"Text:\")\n",
    "print(generated_text)"
   ]
  }
 ],
 "metadata": {
  "language_info": {
   "name": "python"
  }
 },
 "nbformat": 4,
 "nbformat_minor": 2
}
