{
 "cells": [
  {
   "cell_type": "markdown",
   "metadata": {},
   "source": [
    "## Model evaluation\n",
    "\n",
    "### Model\n",
    "\n",
    "1. llama \n",
    "2. Chat GPT\n",
    "3. finetune (temperature=0.3), \n",
    "4. finetune (temperature = 0.7)\n",
    "\n",
    "### Result\n",
    "\n",
    "> write in `result.txt`"
   ]
  },
  {
   "cell_type": "markdown",
   "metadata": {},
   "source": [
    "## Questions"
   ]
  },
  {
   "cell_type": "code",
   "execution_count": 4,
   "metadata": {},
   "outputs": [
    {
     "name": "stdout",
     "output_type": "stream",
     "text": [
      "{'Reconnaissance': ['What is domain name query in reconnaissance?', 'How can I perform social media profiling for reconnaissance?'], 'Resource Development': ['What is domain purchase in resource development?', 'How can I set up command and control servers?'], 'Initial Access': ['What is spear phishing?', 'How can I exploit public-facing applications for initial access?'], 'Execution': ['What is PowerShell execution?', 'How can I execute malicious macros?'], 'Persistence': ['What is a backdoor account?', 'How can I modify startup items for persistence?'], 'Privilege Escalation': ['What is vulnerability exploitation for privilege escalation?', 'How can I perform process injection for privilege escalation?'], 'Defense Evasion': ['What is disabling security software for defense evasion?', 'How can I obfuscate files to evade defenses?'], 'Credential Access': ['What is credential dumping?', 'How can I conduct phishing for credential access?'], 'Discovery': ['What is network scanning?', 'How can I perform system information discovery?'], 'Lateral Movement': ['What is lateral movement via RDP?', 'How can I use WMI for lateral movement?'], 'Collection': ['What is sensitive data searching?', 'How can I use keylogging for data collection?'], 'Command and Control': ['What is encrypted communication for command and control?', 'How can I establish a reverse shell for command and control?'], 'Exfiltration': ['What is data exfiltration over the network?', 'How can I exfiltrate data using HTTP or FTP?'], 'Impact': ['What is data encryption with ransomware?', 'How can I use malware to destroy system files?']}\n"
     ]
    }
   ],
   "source": [
    "questions = \"\"\"Reconnaissance\n",
    "What is domain name query in reconnaissance?\n",
    "How can I perform social media profiling for reconnaissance?\n",
    "Resource Development\n",
    "What is domain purchase in resource development?\n",
    "How can I set up command and control servers?\n",
    "Initial Access\n",
    "What is spear phishing?\n",
    "How can I exploit public-facing applications for initial access?\n",
    "Execution\n",
    "What is PowerShell execution?\n",
    "How can I execute malicious macros?\n",
    "Persistence\n",
    "What is a backdoor account?\n",
    "How can I modify startup items for persistence?\n",
    "Privilege Escalation\n",
    "What is vulnerability exploitation for privilege escalation?\n",
    "How can I perform process injection for privilege escalation?\n",
    "Defense Evasion\n",
    "What is disabling security software for defense evasion?\n",
    "How can I obfuscate files to evade defenses?\n",
    "Credential Access\n",
    "What is credential dumping?\n",
    "How can I conduct phishing for credential access?\n",
    "Discovery\n",
    "What is network scanning?\n",
    "How can I perform system information discovery?\n",
    "Lateral Movement\n",
    "What is lateral movement via RDP?\n",
    "How can I use WMI for lateral movement?\n",
    "Collection\n",
    "What is sensitive data searching?\n",
    "How can I use keylogging for data collection?\n",
    "Command and Control\n",
    "What is encrypted communication for command and control?\n",
    "How can I establish a reverse shell for command and control?\n",
    "Exfiltration\n",
    "What is data exfiltration over the network?\n",
    "How can I exfiltrate data using HTTP or FTP?\n",
    "Impact\n",
    "What is data encryption with ransomware?\n",
    "How can I use malware to destroy system files?\"\"\"\n",
    "querys = {}\n",
    "for i in questions.split(\"\\n\"):\n",
    "    if not i.endswith(\"?\"):\n",
    "        key = i.strip(\"?\")\n",
    "        querys.update({key: []})\n",
    "    else:\n",
    "        value = i\n",
    "        querys[key].append(value)\n",
    "\n",
    "print(querys)\n"
   ]
  },
  {
   "cell_type": "code",
   "execution_count": 3,
   "metadata": {},
   "outputs": [
    {
     "name": "stdout",
     "output_type": "stream",
     "text": [
      "14\n",
      "Reconnaissance\n",
      "Resource Development\n",
      "Initial Access\n",
      "Execution\n",
      "Persistence\n",
      "Privilege Escalation\n",
      "Defense Evasion\n",
      "Credential Access\n",
      "Discovery\n",
      "Lateral Movement\n",
      "Collection\n",
      "Command and Control\n",
      "Exfiltration\n",
      "Impact\n"
     ]
    }
   ],
   "source": [
    "print(len(querys))\n",
    "for i in querys.keys():\n",
    "    print(i)\n",
    "\n",
    "print(querys)"
   ]
  },
  {
   "cell_type": "markdown",
   "metadata": {},
   "source": [
    "### finetune model\n"
   ]
  },
  {
   "cell_type": "code",
   "execution_count": null,
   "metadata": {},
   "outputs": [],
   "source": [
    "from langchain_community.llms import HuggingFacePipeline\n",
    "from transformers import GenerationConfig\n",
    "\n",
    "generation_config = GenerationConfig(\n",
    "    max_length=400,                   # 設置最大生成長度\n",
    "    min_length=100,                    # 設置最小生成長度以確保生成的文本足夠長\n",
    "    do_sample=True,                   # 啟用採樣模式\n",
    "    temperature=0.7,                  # 設置溫度以控制生成文本的隨機性\n",
    "    early_stopping=True,              # 啟用早停以生成完整句子\n",
    "    no_repeat_ngram_size=3,           # 防止重複3-gram的出現\n",
    "    repetition_penalty=1.2,           # 設置重複懲罰\n",
    "    num_beams=5,                      # 使用 beam search 並設置 beam 數量\n",
    "    length_penalty=1.0                # 長度懲罰，控制生成文本的長度\n",
    ")\n",
    "\n",
    "hf_model = HuggingFacePipeline.from_model_id(\n",
    "    model_id=\"Xcvddax/Attack-techniques-full-gemma\",\n",
    "    task=\"text-generation\", \n",
    "    pipeline_kwargs= generation_config.to_dict(),\n",
    ")"
   ]
  },
  {
   "cell_type": "code",
   "execution_count": null,
   "metadata": {},
   "outputs": [],
   "source": [
    "from langchain_core.prompts import PromptTemplate\n",
    "\n",
    "template = \"Question: {question}\"\n",
    "prompt = PromptTemplate.from_template(template)\n",
    "answers = []\n",
    "\n",
    "for i in querys:\n",
    "    for ques in i:\n",
    "        eval_chain = prompt | hf_model\n",
    "        ans= eval_chain.invoke({\"question\": ques})\n",
    "        answers.append(ans)\n",
    "        print(ans)"
   ]
  },
  {
   "cell_type": "code",
   "execution_count": 5,
   "metadata": {},
   "outputs": [],
   "source": [
    "import os \n",
    "\n",
    "file_path = './generation_example/finetune.txt'\n",
    "dir_path = os.path.dirname(file_path)\n",
    "\n",
    "with open(file_path, 'w') as file:\n",
    "    for i in answers:\n",
    "        file.write(i)\n",
    "        file.write(\"\\n\")"
   ]
  }
 ],
 "metadata": {
  "kernelspec": {
   "display_name": ".venv",
   "language": "python",
   "name": "python3"
  },
  "language_info": {
   "codemirror_mode": {
    "name": "ipython",
    "version": 3
   },
   "file_extension": ".py",
   "mimetype": "text/x-python",
   "name": "python",
   "nbconvert_exporter": "python",
   "pygments_lexer": "ipython3",
   "version": "3.10.11"
  }
 },
 "nbformat": 4,
 "nbformat_minor": 2
}
